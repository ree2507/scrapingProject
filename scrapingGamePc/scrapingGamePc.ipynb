{
 "cells": [
  {
   "cell_type": "markdown",
   "id": "07504795",
   "metadata": {},
   "source": [
    "IMPORT LIBRARY"
   ]
  },
  {
   "cell_type": "code",
   "execution_count": 1,
   "id": "091226be",
   "metadata": {},
   "outputs": [],
   "source": [
    "import requests\n",
    "import pandas as pd\n",
    "from bs4 import BeautifulSoup\n",
    "import matplotlib.pyplot as plt"
   ]
  },
  {
   "cell_type": "markdown",
   "id": "25521af5",
   "metadata": {},
   "source": [
    "INISIALISASI URL DASAR"
   ]
  },
  {
   "cell_type": "code",
   "execution_count": 2,
   "id": "38273fb7",
   "metadata": {},
   "outputs": [],
   "source": [
    "baseUrl = \"https://sandbox.oxylabs.io/products/category/pc\"\n",
    "page_num = 1"
   ]
  },
  {
   "cell_type": "markdown",
   "id": "714ba97b",
   "metadata": {},
   "source": [
    "KLASIFIKASI HARGA"
   ]
  },
  {
   "cell_type": "code",
   "execution_count": null,
   "id": "4fa39bdf",
   "metadata": {},
   "outputs": [],
   "source": [
    "def classify_price(price_str):\n",
    "    # mata uang dollar atau euro\n",
    "    try:\n",
    "        price_str = price_str.replace('$', '').replace('€', '').replace(',', '.').strip()\n",
    "        price = float(price_str)\n",
    "        if price < 80:\n",
    "            return 'Murah'\n",
    "        elif price <= 89 and price >= 80 :\n",
    "            return 'Sedang'\n",
    "        else:\n",
    "            return 'Mahal'\n",
    "    except Exception:\n",
    "        return 'Unknown'"
   ]
  },
  {
   "cell_type": "markdown",
   "id": "c4f61959",
   "metadata": {},
   "source": [
    "SCRAPING WEBSITE"
   ]
  },
  {
   "cell_type": "code",
   "execution_count": 5,
   "id": "a2081754",
   "metadata": {},
   "outputs": [
    {
     "name": "stdout",
     "output_type": "stream",
     "text": [
      "Scraping page: https://sandbox.oxylabs.io/products/category/pc?page_num=1\n",
      "Scraping page: https://sandbox.oxylabs.io/products/category/pc?page_num=2\n",
      "Scraping page: https://sandbox.oxylabs.io/products/category/pc?page_num=3\n"
     ]
    }
   ],
   "source": [
    "result = []\n",
    "for page_num in range(1, 4):\n",
    "    url = f\"{baseUrl}?page_num={page_num}\"\n",
    "    print(f\"Scraping page: {url}\")\n",
    "\n",
    "    response = requests.get(url)\n",
    "    if response.status_code != 200:\n",
    "        print(\"Failed to retrieve the page or no more pages available.\")\n",
    "        break\n",
    "\n",
    "    # parsing website\n",
    "    soup = BeautifulSoup(response.text, 'html.parser')\n",
    "    produk = soup.find_all(\"div\", class_=\"product-card css-e8at8d eag3qlw10\")\n",
    "\n",
    "    if not produk:\n",
    "        print(\"No more data found, ending the scraping process.\")\n",
    "        break\n",
    "\n",
    "    for item in produk:\n",
    "        nameGames = item.find(\"h4\", class_=\"title css-7u5e79 eag3qlw7\").get_text(strip=True)\n",
    "        tags = item.find('p', class_=\"category css-8fdgzc eag3qlw9\")\n",
    "        if tags:\n",
    "            tags = \" | \".join([tag.get_text() for tag in tags])\n",
    "        price = item.find(\"div\", class_=\"price-wrapper css-li4v8k eag3qlw4\").get_text(strip=True)\n",
    "        price_class = classify_price(price)\n",
    "        result.append((nameGames, tags, price, price_class))"
   ]
  },
  {
   "cell_type": "markdown",
   "id": "5f420ac1",
   "metadata": {},
   "source": [
    "STATISTIK"
   ]
  },
  {
   "cell_type": "code",
   "execution_count": 6,
   "id": "1654c61f",
   "metadata": {},
   "outputs": [],
   "source": [
    "df = pd.DataFrame(result, columns=['Name', 'Tags', 'Price', 'Price_Class'])\n",
    "\n",
    "# statistik harga game\n",
    "total = len(df)\n",
    "persen = df['Price_Class'].value_counts(normalize=True) * 100\n",
    "\n",
    "stat_df = pd.DataFrame({\n",
    "    'Kelas Harga': persen.index,\n",
    "    'Persentase (%)': persen.values\n",
    "})\n",
    "\n",
    "# rata-rata harga\n",
    "def parse_price(price_str):\n",
    "    try:\n",
    "        price_str = price_str.replace('$', '').replace('€', '').replace(',', '.').strip()\n",
    "        return float(price_str)\n",
    "    except Exception:\n",
    "        return None\n",
    "\n",
    "df['Parsed_Price'] = df['Price'].apply(parse_price)\n",
    "avg_price = df['Parsed_Price'].dropna().mean()\n",
    "\n",
    "\n",
    "avg_row = pd.DataFrame({'Kelas Harga': ['Rata-rata'], 'Persentase (%)': [avg_price if avg_price else 'Tidak dapat dihitung']})\n",
    "stat_df = pd.concat([stat_df, avg_row], ignore_index=True)"
   ]
  },
  {
   "cell_type": "markdown",
   "id": "4c298b1e",
   "metadata": {},
   "source": [
    "VISUALISASI DATA"
   ]
  },
  {
   "cell_type": "code",
   "execution_count": 10,
   "id": "3add44dd",
   "metadata": {},
   "outputs": [],
   "source": [
    "# Visualisasi\n",
    "\n",
    "# pie char\n",
    "plt.figure(figsize=(6,6))\n",
    "df['Price_Class'].value_counts().plot.pie(autopct='%1.1f%%', colors=['#8fd3f4','#f4b183','#a9d18e'])\n",
    "plt.title('Distribusi Kelas Harga Game')\n",
    "plt.ylabel('')\n",
    "plt.tight_layout()\n",
    "plt.savefig('pieChart.png')\n",
    "plt.close()\n",
    "\n",
    "# bar chart\n",
    "plt.figure(figsize=(6,4))\n",
    "df['Price_Class'].value_counts().plot.bar(color=['#8fd3f4','#f4b183','#a9d18e'])\n",
    "plt.title('Distribusi Kelas Harga Game')\n",
    "plt.xlabel('Kelas Harga')\n",
    "plt.ylabel('Jumlah Game')\n",
    "plt.tight_layout()\n",
    "plt.savefig('barChart.png')\n",
    "plt.close()"
   ]
  },
  {
   "cell_type": "markdown",
   "id": "20afd03e",
   "metadata": {},
   "source": [
    "EXPORT KE EXCEL"
   ]
  },
  {
   "cell_type": "code",
   "execution_count": 11,
   "id": "9e341785",
   "metadata": {},
   "outputs": [],
   "source": [
    "# Export ke Excel (sheet1: data, sheet2: statistik, sheet3: visualisasi)\n",
    "with pd.ExcelWriter('dataHasilScraping.xlsx', engine='xlsxwriter') as writer:\n",
    "    df.to_excel(writer, sheet_name='sheet1', index=False)\n",
    "    stat_df.to_excel(writer, sheet_name='statistik', index=False)\n",
    "    \n",
    "    workbook  = writer.book\n",
    "    worksheet = workbook.add_worksheet('visualisasi')\n",
    "    writer.sheets['visualisasi'] = worksheet\n",
    "\n",
    "    worksheet.insert_image('B2', 'pieChart.png')\n",
    "    worksheet.insert_image('B20', 'barChart.png')"
   ]
  }
 ],
 "metadata": {
  "kernelspec": {
   "display_name": "Python 3",
   "language": "python",
   "name": "python3"
  },
  "language_info": {
   "codemirror_mode": {
    "name": "ipython",
    "version": 3
   },
   "file_extension": ".py",
   "mimetype": "text/x-python",
   "name": "python",
   "nbconvert_exporter": "python",
   "pygments_lexer": "ipython3",
   "version": "3.13.3"
  }
 },
 "nbformat": 4,
 "nbformat_minor": 5
}
